{
 "cells": [
  {
   "cell_type": "code",
   "execution_count": null,
   "id": "16d73ae4",
   "metadata": {},
   "outputs": [],
   "source": [
    "import pandas as pd\n",
    "import matplotlib.pyplot as plt\n",
    "import seaborn as sns\n",
    "import scipy.stats as stats\n",
    "import os"
   ]
  },
  {
   "cell_type": "code",
   "execution_count": null,
   "id": "b73bde8d",
   "metadata": {},
   "outputs": [],
   "source": [
    "print(\"Diretório atual:\", os.getcwd())"
   ]
  },
  {
   "cell_type": "code",
   "execution_count": null,
   "id": "4422052a",
   "metadata": {},
   "outputs": [],
   "source": [
    "caminho_dados = 'projeto-anova-enem/dados/MICRODADOS_ENEM_ESCOLA.csv'\n",
    "caminho_imagens = 'projeto-anova-enem/imagens/'"
   ]
  },
  {
   "cell_type": "code",
   "execution_count": null,
   "id": "cf5f8c34",
   "metadata": {},
   "outputs": [],
   "source": [
    "os.makedirs(caminho_imagens, exist_ok=True)"
   ]
  },
  {
   "cell_type": "code",
   "execution_count": null,
   "id": "5995db66",
   "metadata": {},
   "outputs": [],
   "source": [
    "df = pd.read_csv(caminho_dados, sep=';', encoding='latin1', low_memory=False)"
   ]
  },
  {
   "cell_type": "code",
   "execution_count": null,
   "id": "92f8727a",
   "metadata": {},
   "outputs": [],
   "source": [
    "df = df[['TP_DEPENDENCIA_ADM_ESCOLA', 'NU_MEDIA_TOT']].copy()"
   ]
  },
  {
   "cell_type": "code",
   "execution_count": null,
   "id": "baeafdb2",
   "metadata": {},
   "outputs": [],
   "source": [
    "mapeamento_tipo = {\n",
    "    1: 'Federal',\n",
    "    2: 'Estadual',\n",
    "    3: 'Municipal',\n",
    "    4: 'Privada'\n",
    "}\n",
    "df['TIPO_ESCOLA'] = df['TP_DEPENDENCIA_ADM_ESCOLA'].map(mapeamento_tipo)"
   ]
  },
  {
   "cell_type": "code",
   "execution_count": null,
   "id": "b876a703",
   "metadata": {},
   "outputs": [],
   "source": [
    "df = df.dropna(subset=['NU_MEDIA_TOT', 'TIPO_ESCOLA'])"
   ]
  },
  {
   "cell_type": "code",
   "execution_count": null,
   "id": "1e80280a",
   "metadata": {},
   "outputs": [],
   "source": [
    "plt.figure(figsize=(10, 6))\n",
    "sns.boxplot(x='TIPO_ESCOLA', y='NU_MEDIA_TOT', data=df)\n",
    "plt.title('Distribuição das Médias do ENEM por Tipo de Escola')\n",
    "plt.xlabel('Tipo de Escola')\n",
    "plt.ylabel('Média Geral do ENEM')\n",
    "plt.savefig(caminho_imagens + 'boxplot-media-geral.png')\n",
    "plt.close()"
   ]
  },
  {
   "cell_type": "code",
   "execution_count": null,
   "id": "c038ddff",
   "metadata": {},
   "outputs": [],
   "source": [
    "federal = df[df['TIPO_ESCOLA'] == 'Federal']['NU_MEDIA_TOT']\n",
    "estadual = df[df['TIPO_ESCOLA'] == 'Estadual']['NU_MEDIA_TOT']\n",
    "municipal = df[df['TIPO_ESCOLA'] == 'Municipal']['NU_MEDIA_TOT']\n",
    "privada = df[df['TIPO_ESCOLA'] == 'Privada']['NU_MEDIA_TOT']"
   ]
  },
  {
   "cell_type": "code",
   "execution_count": null,
   "id": "f507fff6",
   "metadata": {},
   "outputs": [],
   "source": [
    "f_stat, p_valor = stats.f_oneway(federal, estadual, municipal, privada)"
   ]
  },
  {
   "cell_type": "code",
   "execution_count": null,
   "id": "0c7f50d3",
   "metadata": {},
   "outputs": [],
   "source": [
    "print(\"Estatística F:\", round(f_stat, 4))\n",
    "print(\"Valor-p:\", round(p_valor, 4))"
   ]
  },
  {
   "cell_type": "code",
   "execution_count": null,
   "id": "7fd1e3c2",
   "metadata": {},
   "outputs": [],
   "source": [
    "resultados = pd.DataFrame({\n",
    "    'Estatística F': [round(f_stat, 4)],\n",
    "    'Valor-p': [round(p_valor, 4)]\n",
    "})\n",
    "resultados.to_csv('projeto-anova-enem/imagens/resultados-anova.csv', index=False)"
   ]
  }
 ],
 "metadata": {
  "kernelspec": {
   "display_name": ".venv310",
   "language": "python",
   "name": "python3"
  },
  "language_info": {
   "codemirror_mode": {
    "name": "ipython",
    "version": 3
   },
   "file_extension": ".py",
   "mimetype": "text/x-python",
   "name": "python",
   "nbconvert_exporter": "python",
   "pygments_lexer": "ipython3",
   "version": "3.10.11"
  }
 },
 "nbformat": 4,
 "nbformat_minor": 5
}
