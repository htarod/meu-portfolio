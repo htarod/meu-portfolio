{
 "cells": [
  {
   "cell_type": "markdown",
   "id": "22589c73",
   "metadata": {},
   "source": [
    "##  Introdução\n",
    "\n",
    "Neste projeto, foram analisados dados de imóveis da cidade de São Paulo com o objetivo de entender os principais fatores que influenciam o preço dos imóveis, utilizando técnicas de regressão linear e análise estatística.\n",
    "\n",
    "O projeto contempla análise exploratória, modelagem, diagnóstico e sugestões para aprimoramento do modelo."
   ]
  },
  {
   "cell_type": "markdown",
   "id": "4c3acc46",
   "metadata": {},
   "source": [
    "## Carregamento e Preparação dos Dados\n",
    "\n",
    "Aqui foi realizado o carregamento da base de dados, inspeção inicial, e tratamento de valores ausentes ou inconsistentes."
   ]
  },
  {
   "cell_type": "code",
   "execution_count": null,
   "id": "d0523d2a",
   "metadata": {},
   "outputs": [],
   "source": [
    "\n",
    "import pandas as pd\n",
    "import numpy as np\n",
    "import matplotlib.pyplot as plt\n",
    "import seaborn as sns\n",
    "\n",
    "df = pd.read_csv('dados/imoveis_sp.csv')\n",
    "\n",
    "print(\"Formato:\", df.shape)\n",
    "print(\"\\nTipos de dados:\\n\", df.dtypes)\n",
    "print(\"\\nValores ausentes:\\n\", df.isnull().sum())\n",
    "df.head()\n"
   ]
  },
  {
   "cell_type": "code",
   "execution_count": null,
   "id": "3267f3f4",
   "metadata": {},
   "outputs": [],
   "source": [
    "import pandas as pd\n",
    "import matplotlib.pyplot as plt\n",
    "import seaborn as sns\n",
    "import numpy as np\n"
   ]
  },
  {
   "cell_type": "code",
   "execution_count": null,
   "id": "fb969d23",
   "metadata": {},
   "outputs": [],
   "source": [
    "import statsmodels.api as sm\n"
   ]
  },
  {
   "cell_type": "code",
   "execution_count": null,
   "id": "4cf4ed57",
   "metadata": {},
   "outputs": [],
   "source": [
    "df = pd.read_csv('dados/imoveis_sp.csv')\n",
    "df.head()\n"
   ]
  },
  {
   "cell_type": "code",
   "execution_count": null,
   "id": "cc12f0ca",
   "metadata": {},
   "outputs": [],
   "source": [
    "df.info()\n",
    "df.describe()\n",
    "df.isnull().sum()\n"
   ]
  },
  {
   "cell_type": "code",
   "execution_count": null,
   "id": "44625bd6",
   "metadata": {},
   "outputs": [],
   "source": [
    "df = df[(df['Price'] > 0) & (df['Size'] > 0)]\n",
    "df.dropna(subset=['Price', 'Size'], inplace=True)\n"
   ]
  },
  {
   "cell_type": "code",
   "execution_count": null,
   "id": "88ad769c",
   "metadata": {},
   "outputs": [],
   "source": [
    "plt.figure(figsize=(10,8))\n",
    "sns.heatmap(df.corr(numeric_only=True), annot=True, cmap='coolwarm')\n",
    "plt.title('Correlação entre Variáveis Numéricas')\n",
    "plt.tight_layout()\n",
    "plt.savefig('grafico-correlacao.png') \n",
    "plt.show()\n"
   ]
  },
  {
   "cell_type": "code",
   "execution_count": null,
   "id": "874e63cc",
   "metadata": {},
   "outputs": [],
   "source": [
    "import statsmodels.api as sm\n",
    "\n",
    "df['Size'] = pd.to_numeric(df['Size'], errors='coerce')\n",
    "df['Price'] = pd.to_numeric(df['Price'], errors='coerce')\n",
    "df.dropna(subset=['Size', 'Price'], inplace=True)\n",
    "\n",
    "X = df['Size']\n",
    "y = df['Price']\n",
    "\n",
    "X = sm.add_constant(X)  \n",
    "modelo = sm.OLS(y, X).fit()\n",
    "print(modelo.summary())\n",
    "\n",
    "\n"
   ]
  },
  {
   "cell_type": "code",
   "execution_count": null,
   "id": "ec98ea6a",
   "metadata": {},
   "outputs": [],
   "source": [
    "sns.regplot(x='Size', y='Price', data=df, scatter_kws={\"alpha\":0.3})\n",
    "plt.title('Regressão Linear: Área vs Preço')\n",
    "plt.xlabel('Área útil (m²)')\n",
    "plt.ylabel('Preço (R$)')\n",
    "plt.savefig('grafico-regressao.png')\n",
    "plt.show()\n"
   ]
  },
  {
   "cell_type": "code",
   "execution_count": null,
   "id": "2666bbbc",
   "metadata": {},
   "outputs": [],
   "source": [
    "\n",
    "variaveis = ['Size', 'Rooms', 'Toilets', 'Suites', 'Parking']\n",
    "\n",
    "df[variaveis + ['Price']] = df[variaveis + ['Price']].apply(pd.to_numeric, errors='coerce')\n",
    "\n",
    "df.dropna(subset=variaveis + ['Price'], inplace=True)\n",
    "\n",
    "X = df[variaveis]\n",
    "y = df['Price']\n",
    "\n",
    "X = sm.add_constant(X)\n",
    "\n",
    "modelo_multiplo = sm.OLS(y, X).fit()\n",
    "\n",
    "print(modelo_multiplo.summary())\n"
   ]
  },
  {
   "cell_type": "code",
   "execution_count": null,
   "id": "d8bf3bb8",
   "metadata": {},
   "outputs": [],
   "source": [
    "plt.figure(figsize=(10,6))\n",
    "sns.histplot(df['Price'], bins=50, kde=True)\n",
    "plt.title('Distribuição dos Preços dos Imóveis')\n",
    "plt.xlabel('Preço (R$)')\n",
    "plt.ylabel('Frequência')\n",
    "plt.savefig('imagens/distribuicao-precos.png')\n",
    "plt.show()\n",
    "\n",
    "plt.figure(figsize=(10,6))\n",
    "sns.scatterplot(x='Size', y='Price', hue='Parking', data=df, palette='viridis', alpha=0.6)\n",
    "plt.title('Preço vs. Área (com Vagas)')\n",
    "plt.xlabel('Área útil (m²)')\n",
    "plt.ylabel('Preço (R$)')\n",
    "plt.legend(title='Vagas')\n",
    "plt.savefig('imagens/size-vs-price-parking.png')\n",
    "plt.show()\n"
   ]
  },
  {
   "cell_type": "code",
   "execution_count": null,
   "id": "ce82f21c",
   "metadata": {},
   "outputs": [],
   "source": [
    "import pandas as pd\n",
    "import numpy as np\n",
    "import matplotlib.pyplot as plt\n",
    "import seaborn as sns\n",
    "\n",
    "df = pd.read_csv('dados/imoveis_sp.csv')\n",
    "df.head()"
   ]
  },
  {
   "cell_type": "markdown",
   "id": "8348043f",
   "metadata": {},
   "source": [
    "## Análise Exploratória (EDA)\n",
    "\n",
    "Nesta seção, é possível visualizar a distribuição dos preços, a correlação entre variáveis e outras informações úteis para entender o comportamento dos dados."
   ]
  },
  {
   "cell_type": "code",
   "execution_count": null,
   "id": "d991759d",
   "metadata": {},
   "outputs": [],
   "source": [
    "\n",
    "plt.figure(figsize=(10, 6))\n",
    "sns.histplot(df['Price'], bins=30, kde=True)\n",
    "plt.title('Distribuição dos Preços dos Imóveis')\n",
    "plt.xlabel('Preço (R$)')\n",
    "plt.ylabel('Frequência')\n",
    "plt.show()\n",
    "\n",
    "plt.figure(figsize=(12, 10))\n",
    "corr = df.select_dtypes(include='number').corr()\n",
    "sns.heatmap(corr, annot=True, cmap='coolwarm', fmt='.2f')\n",
    "plt.title('Correlação entre Variáveis Numéricas')\n",
    "plt.show()\n"
   ]
  },
  {
   "cell_type": "markdown",
   "id": "9905daba",
   "metadata": {},
   "source": [
    "## Transformações e Engenharia de Variáveis\n",
    "\n",
    "Aqui foram aplicadas transformações como logaritmo para lidar com distribuições assimétricas, além de outras possíveis transformações úteis para a modelagem."
   ]
  },
  {
   "cell_type": "code",
   "execution_count": null,
   "id": "3be1606c",
   "metadata": {},
   "outputs": [],
   "source": [
    "\n",
    "df['LogPrice'] = np.log1p(df['Price'])\n",
    "\n",
    "plt.figure(figsize=(10, 6))\n",
    "sns.histplot(df['LogPrice'], bins=30, kde=True)\n",
    "plt.title('Distribuição do Log(Preço)')\n",
    "plt.xlabel('Log(Preço)')\n",
    "plt.ylabel('Frequência')\n",
    "plt.show()\n"
   ]
  },
  {
   "cell_type": "markdown",
   "id": "19b35a72",
   "metadata": {},
   "source": [
    "##  Regressão Linear Simples\n",
    "\n",
    "Exploramos a relação entre a variável de área útil e o preço dos imóveis usando regressão linear simples."
   ]
  },
  {
   "cell_type": "code",
   "execution_count": null,
   "id": "af7625c0",
   "metadata": {},
   "outputs": [],
   "source": [
    "\n",
    "import statsmodels.api as sm\n",
    "\n",
    "X = df['Size']\n",
    "y = df['Price']\n",
    "\n",
    "X_const = sm.add_constant(X)\n",
    "modelo_simples = sm.OLS(y, X_const).fit()\n",
    "print(modelo_simples.summary())\n",
    "\n",
    "sns.lmplot(x='Size', y='Price', data=df, scatter_kws={\"alpha\":0.3}, line_kws={\"color\": \"red\"})\n",
    "plt.title('Regressão Linear: Área vs Preço')\n",
    "plt.xlabel('Área útil (m²)')\n",
    "plt.ylabel('Preço (R$)')\n",
    "plt.show()\n"
   ]
  },
  {
   "cell_type": "markdown",
   "id": "0eea307e",
   "metadata": {},
   "source": [
    "##  Regressão Linear Múltipla\n",
    "\n",
    "Construção de modelos com múltiplas variáveis para entender melhor a contribuição de cada fator no preço do imóvel."
   ]
  },
  {
   "cell_type": "code",
   "execution_count": null,
   "id": "c8738652",
   "metadata": {},
   "outputs": [],
   "source": [
    "\n",
    "features = ['Size', 'Rooms', 'Toilets', 'Suites', 'Parking', 'Elevator', 'Furnished', 'Swimming Pool', 'New']\n",
    "X_mult = df[features]\n",
    "y_mult = df['LogPrice'] \n",
    "\n",
    "X_mult_const = sm.add_constant(X_mult)\n",
    "modelo_multiplo = sm.OLS(y_mult, X_mult_const).fit()\n",
    "print(modelo_multiplo.summary())\n"
   ]
  },
  {
   "cell_type": "markdown",
   "id": "cf3eadbd",
   "metadata": {},
   "source": [
    "## Diagnóstico e Validação\n",
    "\n",
    "Foram avaliados: resíduos, normalidade, multicolinearidade (quando duas ou mais variáveis independentes em um modelo de regressão estão altamente correlacionadas) e outras métricas para verificar a validade estatística dos modelos."
   ]
  },
  {
   "cell_type": "code",
   "execution_count": null,
   "id": "7866b102",
   "metadata": {},
   "outputs": [],
   "source": [
    "\n",
    "residuos = modelo_multiplo.resid\n",
    "\n",
    "plt.figure(figsize=(8, 5))\n",
    "sns.histplot(residuos, kde=True)\n",
    "plt.title('Distribuição dos Resíduos')\n",
    "plt.xlabel('Resíduo')\n",
    "plt.show()\n",
    "\n",
    "plt.figure(figsize=(8, 5))\n",
    "plt.scatter(modelo_multiplo.fittedvalues, residuos, alpha=0.3)\n",
    "plt.axhline(y=0, color='red', linestyle='--')\n",
    "plt.title('Resíduos vs Valores Ajustados')\n",
    "plt.xlabel('Valores Ajustados')\n",
    "plt.ylabel('Resíduos')\n",
    "plt.show()\n"
   ]
  },
  {
   "cell_type": "markdown",
   "id": "98f929e4",
   "metadata": {},
   "source": [
    "##  Modelos Avançados\n",
    "\n",
    "Nesse bloco foram testados: regressão polinomial, interação entre variáveis e/ou aplicação de regularização (Ridge, Lasso) para melhorar o modelo."
   ]
  },
  {
   "cell_type": "code",
   "execution_count": null,
   "id": "05acbc36",
   "metadata": {},
   "outputs": [],
   "source": [
    "\n",
    "df['Size2'] = df['Size']**2\n",
    "X_poly = df[['Size', 'Size2']]\n",
    "X_poly_const = sm.add_constant(X_poly)\n",
    "modelo_poly = sm.OLS(y, X_poly_const).fit()\n",
    "print(modelo_poly.summary())\n"
   ]
  }
 ],
 "metadata": {
  "kernelspec": {
   "display_name": ".venv310",
   "language": "python",
   "name": "python3"
  },
  "language_info": {
   "codemirror_mode": {
    "name": "ipython",
    "version": 3
   },
   "file_extension": ".py",
   "mimetype": "text/x-python",
   "name": "python",
   "nbconvert_exporter": "python",
   "pygments_lexer": "ipython3",
   "version": "3.10.11"
  }
 },
 "nbformat": 4,
 "nbformat_minor": 5
}
