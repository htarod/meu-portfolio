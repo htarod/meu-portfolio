{
 "cells": [
  {
   "cell_type": "code",
   "execution_count": null,
   "id": "3267f3f4",
   "metadata": {},
   "outputs": [],
   "source": [
    "import pandas as pd\n",
    "import matplotlib.pyplot as plt\n",
    "import seaborn as sns\n",
    "import numpy as np\n"
   ]
  },
  {
   "cell_type": "code",
   "execution_count": null,
   "id": "fb969d23",
   "metadata": {},
   "outputs": [],
   "source": [
    "import statsmodels.api as sm\n"
   ]
  },
  {
   "cell_type": "code",
   "execution_count": null,
   "id": "4cf4ed57",
   "metadata": {},
   "outputs": [],
   "source": [
    "df = pd.read_csv('dados/imoveis_sp.csv')\n",
    "df.head()\n"
   ]
  },
  {
   "cell_type": "code",
   "execution_count": null,
   "id": "cc12f0ca",
   "metadata": {},
   "outputs": [],
   "source": [
    "df.info()\n",
    "df.describe()\n",
    "df.isnull().sum()\n"
   ]
  },
  {
   "cell_type": "code",
   "execution_count": null,
   "id": "44625bd6",
   "metadata": {},
   "outputs": [],
   "source": [
    "df = df[(df['Price'] > 0) & (df['Size'] > 0)]\n",
    "df.dropna(subset=['Price', 'Size'], inplace=True)\n"
   ]
  },
  {
   "cell_type": "code",
   "execution_count": null,
   "id": "88ad769c",
   "metadata": {},
   "outputs": [],
   "source": [
    "plt.figure(figsize=(10,8))\n",
    "sns.heatmap(df.corr(numeric_only=True), annot=True, cmap='coolwarm')\n",
    "plt.title('Correlação entre Variáveis Numéricas')\n",
    "plt.tight_layout()\n",
    "plt.savefig('grafico-correlacao.png')  # Para colocar no site depois\n",
    "plt.show()\n"
   ]
  },
  {
   "cell_type": "code",
   "execution_count": null,
   "id": "874e63cc",
   "metadata": {},
   "outputs": [],
   "source": [
    "import statsmodels.api as sm\n",
    "\n",
    "# Garantir que os dados estão limpos\n",
    "df['Size'] = pd.to_numeric(df['Size'], errors='coerce')\n",
    "df['Price'] = pd.to_numeric(df['Price'], errors='coerce')\n",
    "df.dropna(subset=['Size', 'Price'], inplace=True)\n",
    "\n",
    "# Regressão\n",
    "X = df['Size']\n",
    "y = df['Price']\n",
    "\n",
    "X = sm.add_constant(X)  # adiciona o intercepto\n",
    "modelo = sm.OLS(y, X).fit()\n",
    "print(modelo.summary())\n",
    "\n",
    "\n"
   ]
  },
  {
   "cell_type": "code",
   "execution_count": null,
   "id": "ec98ea6a",
   "metadata": {},
   "outputs": [],
   "source": [
    "sns.regplot(x='Size', y='Price', data=df, scatter_kws={\"alpha\":0.3})\n",
    "plt.title('Regressão Linear: Área vs Preço')\n",
    "plt.xlabel('Área útil (m²)')\n",
    "plt.ylabel('Preço (R$)')\n",
    "plt.savefig('grafico-regressao.png')\n",
    "plt.show()\n"
   ]
  },
  {
   "cell_type": "code",
   "execution_count": null,
   "id": "2666bbbc",
   "metadata": {},
   "outputs": [],
   "source": [
    "\n",
    "variaveis = ['Size', 'Rooms', 'Toilets', 'Suites', 'Parking']\n",
    "\n",
    "df[variaveis + ['Price']] = df[variaveis + ['Price']].apply(pd.to_numeric, errors='coerce')\n",
    "\n",
    "df.dropna(subset=variaveis + ['Price'], inplace=True)\n",
    "\n",
    "X = df[variaveis]\n",
    "y = df['Price']\n",
    "\n",
    "X = sm.add_constant(X)\n",
    "\n",
    "modelo_multiplo = sm.OLS(y, X).fit()\n",
    "\n",
    "print(modelo_multiplo.summary())\n"
   ]
  },
  {
   "cell_type": "code",
   "execution_count": null,
   "id": "d8bf3bb8",
   "metadata": {},
   "outputs": [],
   "source": [
    "# Gráfico 1 - Distribuição de preços\n",
    "plt.figure(figsize=(10,6))\n",
    "sns.histplot(df['Price'], bins=50, kde=True)\n",
    "plt.title('Distribuição dos Preços dos Imóveis')\n",
    "plt.xlabel('Preço (R$)')\n",
    "plt.ylabel('Frequência')\n",
    "plt.savefig('imagens/distribuicao-precos.png')\n",
    "plt.show()\n",
    "\n",
    "# Gráfico 2 - Dispersão por número de vagas\n",
    "plt.figure(figsize=(10,6))\n",
    "sns.scatterplot(x='Size', y='Price', hue='Parking', data=df, palette='viridis', alpha=0.6)\n",
    "plt.title('Preço vs. Área (com Vagas)')\n",
    "plt.xlabel('Área útil (m²)')\n",
    "plt.ylabel('Preço (R$)')\n",
    "plt.legend(title='Vagas')\n",
    "plt.savefig('imagens/size-vs-price-parking.png')\n",
    "plt.show()\n"
   ]
  }
 ],
 "metadata": {
  "kernelspec": {
   "display_name": ".venv",
   "language": "python",
   "name": "python3"
  },
  "language_info": {
   "codemirror_mode": {
    "name": "ipython",
    "version": 3
   },
   "file_extension": ".py",
   "mimetype": "text/x-python",
   "name": "python",
   "nbconvert_exporter": "python",
   "pygments_lexer": "ipython3",
   "version": "3.13.3"
  }
 },
 "nbformat": 4,
 "nbformat_minor": 5
}
