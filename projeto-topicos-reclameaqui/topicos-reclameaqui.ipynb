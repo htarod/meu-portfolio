{
 "cells": [
  {
   "cell_type": "code",
   "execution_count": null,
   "id": "36727529",
   "metadata": {},
   "outputs": [],
   "source": [
    "import pandas as pd\n",
    "import numpy as np\n",
    "import matplotlib.pyplot as plt\n",
    "import seaborn as sns\n",
    "\n",
    "import nltk\n",
    "from nltk.corpus import stopwords\n",
    "from sklearn.feature_extraction.text import CountVectorizer\n",
    "from wordcloud import WordCloud\n",
    "\n",
    "import gensim\n",
    "from gensim import corpora\n",
    "from gensim.models.ldamodel import LdaModel\n",
    "\n",
    "\n",
    "import nltk\n",
    "nltk.download('stopwords')\n"
   ]
  },
  {
   "cell_type": "code",
   "execution_count": null,
   "id": "ccef53ce",
   "metadata": {},
   "outputs": [],
   "source": [
    "df = pd.read_csv('dados/reclamacoes_completas.csv', encoding='utf-8')\n",
    "df.shape\n",
    "df.columns\n",
    "df.head()\n"
   ]
  },
  {
   "cell_type": "code",
   "execution_count": null,
   "id": "7b9f1dce",
   "metadata": {},
   "outputs": [],
   "source": [
    "from nltk.corpus import stopwords\n",
    "import nltk\n",
    "nltk.download('stopwords')\n",
    "\n",
    "# Criar a coluna documents (usando título + texto, se desejar só texto, pode mudar)\n",
    "df['documents'] = df['title'] + ' ' + df['text']\n",
    "\n",
    "stopwords_pt = stopwords.words('portuguese')\n",
    "\n",
    "def preprocessar(texto):\n",
    "    tokens = str(texto).lower().split()\n",
    "    tokens = [t for t in tokens if t not in stopwords_pt and len(t) > 2]\n",
    "    return tokens\n",
    "\n",
    "df['tokens'] = df['documents'].apply(preprocessar)\n",
    "\n"
   ]
  },
  {
   "cell_type": "code",
   "execution_count": null,
   "id": "34def947",
   "metadata": {},
   "outputs": [],
   "source": [
    "from gensim import corpora\n",
    "\n",
    "dicionario = corpora.Dictionary(df['tokens'])\n",
    "corpus = [dicionario.doc2bow(tokens) for tokens in df['tokens']]\n",
    "\n"
   ]
  },
  {
   "cell_type": "code",
   "execution_count": null,
   "id": "5c7555f4",
   "metadata": {},
   "outputs": [],
   "source": [
    "from gensim.models import LdaModel\n",
    "\n",
    "modelo_lda = LdaModel(corpus=corpus,\n",
    "                      id2word=dicionario,\n",
    "                      num_topics=5,\n",
    "                      random_state=42,\n",
    "                      passes=10,\n",
    "                      per_word_topics=True)\n",
    "\n"
   ]
  },
  {
   "cell_type": "code",
   "execution_count": null,
   "id": "54f62547",
   "metadata": {},
   "outputs": [],
   "source": [
    "for idx, topic in modelo_lda.print_topics():\n",
    "    print(f\"Tópico {idx+1}: {topic}\\n\")\n",
    "\n"
   ]
  },
  {
   "cell_type": "code",
   "execution_count": null,
   "id": "111e2933",
   "metadata": {},
   "outputs": [],
   "source": [
    "import pyLDAvis\n",
    "import pyLDAvis.gensim_models as gensimvis\n",
    "\n",
    "# Preparar visualização\n",
    "pyldavis_data = gensimvis.prepare(modelo_lda, corpus, dicionario)\n",
    "\n",
    "# Exibir no notebook\n",
    "pyLDAvis.display(pyldavis_data)\n"
   ]
  },
  {
   "cell_type": "code",
   "execution_count": null,
   "id": "b711328c",
   "metadata": {},
   "outputs": [],
   "source": [
    "import pyLDAvis.gensim_models\n",
    "import pyLDAvis\n",
    "\n",
    "vis = pyLDAvis.gensim_models.prepare(modelo_lda, corpus, dicionario)\n",
    "pyLDAvis.save_html(vis, 'imagens/lda_interativo.html')\n"
   ]
  },
  {
   "cell_type": "code",
   "execution_count": null,
   "id": "c7a8da4e",
   "metadata": {},
   "outputs": [],
   "source": [
    "import pyLDAvis\n",
    "pyLDAvis.save_html(vis, 'imagens/lda_interativo.html')\n"
   ]
  }
 ],
 "metadata": {
  "kernelspec": {
   "display_name": ".venv310",
   "language": "python",
   "name": "python3"
  },
  "language_info": {
   "codemirror_mode": {
    "name": "ipython",
    "version": 3
   },
   "file_extension": ".py",
   "mimetype": "text/x-python",
   "name": "python",
   "nbconvert_exporter": "python",
   "pygments_lexer": "ipython3",
   "version": "3.10.11"
  }
 },
 "nbformat": 4,
 "nbformat_minor": 5
}
